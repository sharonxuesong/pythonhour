{
 "metadata": {
  "name": "",
  "signature": "sha256:ab6b522160a8b563aebdcf5a7e90f6a443ec85091a9a8aa0eff65515527868e4"
 },
 "nbformat": 3,
 "nbformat_minor": 0,
 "worksheets": [
  {
   "cells": [
    {
     "cell_type": "markdown",
     "metadata": {},
     "source": [
      "#Conventions, Pythonic Ways of Doing Things, Useful Packages, And Maybe Some Other Helpful Stuff"
     ]
    },
    {
     "cell_type": "markdown",
     "metadata": {},
     "source": [
      "##Intro"
     ]
    },
    {
     "cell_type": "markdown",
     "metadata": {},
     "source": [
      "Python is wonderful and useful! There are many reasons why:\n",
      "* Modern, multi-paradigm language \n",
      "* free (as opposed to IDL) and open source (as opposed to IDL)\n",
      "* used in many industries (as opposed to IDL)\n",
      "* more time-efficient programming, making more productive researchers\n",
      "* extensive libraries"
     ]
    },
    {
     "cell_type": "markdown",
     "metadata": {},
     "source": [
      "##Conventions & Pythonic Ways of Doing Things"
     ]
    },
    {
     "cell_type": "markdown",
     "metadata": {},
     "source": [
      "As with every programming language, python has its own set of conventions. These are useful to follow and generally make your code more readable and better behaved. The foundational document for python conventions is [PEP 8](https://www.python.org/dev/peps/pep-0008/). \n",
      "\n",
      "Thanks to Lea for helping me come up with a bunch of this."
     ]
    },
    {
     "cell_type": "markdown",
     "metadata": {},
     "source": [
      "###The Zen of Python\n",
      "Sums up many of the great ideas of the language"
     ]
    },
    {
     "cell_type": "code",
     "collapsed": false,
     "input": [
      "import this"
     ],
     "language": "python",
     "metadata": {},
     "outputs": [
      {
       "output_type": "stream",
       "stream": "stdout",
       "text": [
        "The Zen of Python, by Tim Peters\n",
        "\n",
        "Beautiful is better than ugly.\n",
        "Explicit is better than implicit.\n",
        "Simple is better than complex.\n",
        "Complex is better than complicated.\n",
        "Flat is better than nested.\n",
        "Sparse is better than dense.\n",
        "Readability counts.\n",
        "Special cases aren't special enough to break the rules.\n",
        "Although practicality beats purity.\n",
        "Errors should never pass silently.\n",
        "Unless explicitly silenced.\n",
        "In the face of ambiguity, refuse the temptation to guess.\n",
        "There should be one-- and preferably only one --obvious way to do it.\n",
        "Although that way may not be obvious at first unless you're Dutch.\n",
        "Now is better than never.\n",
        "Although never is often better than *right* now.\n",
        "If the implementation is hard to explain, it's a bad idea.\n",
        "If the implementation is easy to explain, it may be a good idea.\n",
        "Namespaces are one honking great idea -- let's do more of those!\n"
       ]
      }
     ],
     "prompt_number": 2
    },
    {
     "cell_type": "markdown",
     "metadata": {},
     "source": [
      "###xkcd Also has an excellent take on python: \n",
      "\n",
      "![Python!](http://imgs.xkcd.com/comics/python.png \"XKCD's Take on Python\")"
     ]
    },
    {
     "cell_type": "markdown",
     "metadata": {},
     "source": [
      "###Importing Packages"
     ]
    },
    {
     "cell_type": "markdown",
     "metadata": {},
     "source": [
      "###First, what are namespaces, other than apparently a \"honking great idea\"?"
     ]
    },
    {
     "cell_type": "code",
     "collapsed": false,
     "input": [
      "import math\n",
      "#everything inside the math module is accessible via math.function_name. These functions are in a separate namespace\n",
      "#functions and variables accessible without any package or module name in front are in the local namespace\n",
      "a = 2.0\n",
      "print(math.cos(a))"
     ],
     "language": "python",
     "metadata": {},
     "outputs": [
      {
       "output_type": "stream",
       "stream": "stdout",
       "text": [
        "-0.4161468365471424\n"
       ]
      }
     ],
     "prompt_number": 7
    },
    {
     "cell_type": "markdown",
     "metadata": {},
     "source": [
      "Let's say we really just want a function or two from a package. If so, we can do:"
     ]
    },
    {
     "cell_type": "code",
     "collapsed": false,
     "input": [
      "from math import cos, sin\n",
      "#cos and sin are now locally available\n",
      "print(cos(a))\n",
      "print(sin(a))"
     ],
     "language": "python",
     "metadata": {},
     "outputs": [
      {
       "output_type": "stream",
       "stream": "stdout",
       "text": [
        "-0.4161468365471424\n",
        "0.9092974268256817\n"
       ]
      }
     ],
     "prompt_number": 6
    },
    {
     "cell_type": "markdown",
     "metadata": {},
     "source": [
      "A package can contain many submodules; some packages such as scipy, numpy, and astropy all do this. For these, importing looks like this:"
     ]
    },
    {
     "cell_type": "code",
     "collapsed": false,
     "input": [
      "import scipy.stats\n",
      "import numpy as np #IMPORTANT CONVENTION\n",
      "from astropy.io import fits"
     ],
     "language": "python",
     "metadata": {},
     "outputs": [],
     "prompt_number": 8
    },
    {
     "cell_type": "markdown",
     "metadata": {},
     "source": [
      "Never do  \n",
      "from blah import \\*  \n",
      "this is unsafe as it can overwrite functions already in locals, such as open\n",
      "\n",
      "####How do I import things from a module I wrote?\n",
      "* First, put it in the directory where you're running python, or in a place where python knows to look. It may be helpful to define a PYTHONPATH shell variable\n",
      "* import the module as you would any other. I have a very simple example with potato.py in this directory."
     ]
    },
    {
     "cell_type": "code",
     "collapsed": false,
     "input": [
      "import potato\n",
      "a = 2.0\n",
      "print(potato.tomato(a))"
     ],
     "language": "python",
     "metadata": {},
     "outputs": [
      {
       "output_type": "stream",
       "stream": "stdout",
       "text": [
        "4.0\n"
       ]
      }
     ],
     "prompt_number": 10
    },
    {
     "cell_type": "markdown",
     "metadata": {},
     "source": [
      "I'm in an interactive session and just found a bug in my code, how do I reload it?"
     ]
    },
    {
     "cell_type": "code",
     "collapsed": false,
     "input": [
      "import imp #import helper module\n",
      "imp.reload(potato) #note that in python2, reload is in the standard library, so reload(potato) works"
     ],
     "language": "python",
     "metadata": {},
     "outputs": [
      {
       "metadata": {},
       "output_type": "pyout",
       "prompt_number": 11,
       "text": [
        "<module 'potato' from './potato.py'>"
       ]
      }
     ],
     "prompt_number": 11
    },
    {
     "cell_type": "markdown",
     "metadata": {},
     "source": [
      "###Loops\n",
      "\n",
      "So, you're use to looping over integers, like this"
     ]
    },
    {
     "cell_type": "code",
     "collapsed": false,
     "input": [
      "for i in range(0,5):\n",
      "    print(i)"
     ],
     "language": "python",
     "metadata": {},
     "outputs": [
      {
       "output_type": "stream",
       "stream": "stdout",
       "text": [
        "0\n",
        "1\n",
        "2\n",
        "3\n",
        "4\n"
       ]
      }
     ],
     "prompt_number": 12
    },
    {
     "cell_type": "markdown",
     "metadata": {},
     "source": [
      "That's fine, but python can also iterate over objects, like lists! Its great!"
     ]
    },
    {
     "cell_type": "code",
     "collapsed": false,
     "input": [
      "a = [0,1,2,3,4,5]\n",
      "for i in a:\n",
      "    print(i)\n",
      "print()\n",
      "b = ['a','b','c']\n",
      "for j in b:\n",
      "    print(j.upper())"
     ],
     "language": "python",
     "metadata": {},
     "outputs": [
      {
       "output_type": "stream",
       "stream": "stdout",
       "text": [
        "0\n",
        "1\n",
        "2\n",
        "3\n",
        "4\n",
        "5\n",
        "\n",
        "A\n",
        "B\n",
        "C\n"
       ]
      }
     ],
     "prompt_number": 16
    },
    {
     "cell_type": "markdown",
     "metadata": {},
     "source": [
      "But i need access to the index and the value in my for loop"
     ]
    },
    {
     "cell_type": "code",
     "collapsed": false,
     "input": [
      "for i,j in enumerate(b):\n",
      "    print(i, j)"
     ],
     "language": "python",
     "metadata": {},
     "outputs": [
      {
       "output_type": "stream",
       "stream": "stdout",
       "text": [
        "0 a\n",
        "1 b\n",
        "2 c\n"
       ]
      }
     ],
     "prompt_number": 17
    },
    {
     "cell_type": "markdown",
     "metadata": {},
     "source": [
      "I have two lists or arrays of the same size that I want to combine when i use a for loop"
     ]
    },
    {
     "cell_type": "code",
     "collapsed": false,
     "input": [
      "c = [1,2,3]\n",
      "for i,j in zip(b,c):\n",
      "    print(i, j)"
     ],
     "language": "python",
     "metadata": {},
     "outputs": [
      {
       "output_type": "stream",
       "stream": "stdout",
       "text": [
        "a 1\n",
        "b 2\n",
        "c 3\n"
       ]
      }
     ],
     "prompt_number": 18
    },
    {
     "cell_type": "markdown",
     "metadata": {},
     "source": [
      "In general, we mostly use *for* loops, but *while* loops are great, too."
     ]
    },
    {
     "cell_type": "code",
     "collapsed": false,
     "input": [
      "b = 5\n",
      "while b > 1:\n",
      "    b = b - 1\n",
      "    print(b)"
     ],
     "language": "python",
     "metadata": {},
     "outputs": [
      {
       "output_type": "stream",
       "stream": "stdout",
       "text": [
        "4\n",
        "3\n",
        "2\n",
        "1\n"
       ]
      }
     ],
     "prompt_number": 19
    },
    {
     "cell_type": "markdown",
     "metadata": {},
     "source": [
      "Its perfectly fine to use while True loops, too:"
     ]
    },
    {
     "cell_type": "code",
     "collapsed": false,
     "input": [
      "b = 5\n",
      "while True:\n",
      "    b = b - 1\n",
      "    print(b)\n",
      "    if b <= 1:\n",
      "        break"
     ],
     "language": "python",
     "metadata": {},
     "outputs": [
      {
       "output_type": "stream",
       "stream": "stdout",
       "text": [
        "4\n",
        "3\n",
        "2\n",
        "1\n"
       ]
      }
     ],
     "prompt_number": 20
    },
    {
     "cell_type": "markdown",
     "metadata": {},
     "source": [
      "###List Comprehensions! \n",
      "These are nifty, readable, and efficient ways of doing things that normally require a for loop"
     ]
    },
    {
     "cell_type": "code",
     "collapsed": false,
     "input": [
      "a = ['a','b','c']\n",
      "b = [i.upper() for i in a]\n",
      "print(b)"
     ],
     "language": "python",
     "metadata": {},
     "outputs": [
      {
       "output_type": "stream",
       "stream": "stdout",
       "text": [
        "['A', 'B', 'C']\n"
       ]
      }
     ],
     "prompt_number": 22
    },
    {
     "cell_type": "markdown",
     "metadata": {},
     "source": [
      "I use list comprehensions for accessing information inside objects a lot."
     ]
    },
    {
     "cell_type": "markdown",
     "metadata": {},
     "source": [
      "##Useful Packages"
     ]
    },
    {
     "cell_type": "markdown",
     "metadata": {},
     "source": [
      "* numpy -- arrays in python and the basis for all other scientific packages\n",
      "* scipy -- lots of things, stats, signal processing, fitting, interpolation, integration\n",
      "* matplotlib -- plotting\n",
      "* astropy -- lots of astro specific stuff. very much in progress\n",
      "* emcee -- affine invariant MCMC sampler\n",
      "* sympy -- symbolic algebra (like mathematica in python)\n",
      "* and lots of others"
     ]
    },
    {
     "cell_type": "markdown",
     "metadata": {},
     "source": [
      "##Other Helpful Stuff\n",
      "\n",
      "###Try Statements\n",
      "python can catch errors on the fly and not have the code break. this is amazing."
     ]
    },
    {
     "cell_type": "code",
     "collapsed": false,
     "input": [
      "import math\n",
      "a = [1.0,2.0,'c',3.0]\n",
      "for i in a:\n",
      "    print(math.cos(i))"
     ],
     "language": "python",
     "metadata": {},
     "outputs": [
      {
       "output_type": "stream",
       "stream": "stdout",
       "text": [
        "0.5403023058681398\n",
        "-0.4161468365471424\n"
       ]
      },
      {
       "ename": "TypeError",
       "evalue": "a float is required",
       "output_type": "pyerr",
       "traceback": [
        "\u001b[0;31m---------------------------------------------------------------------------\u001b[0m\n\u001b[0;31mTypeError\u001b[0m                                 Traceback (most recent call last)",
        "\u001b[0;32m<ipython-input-32-a3bbba8daa27>\u001b[0m in \u001b[0;36m<module>\u001b[0;34m()\u001b[0m\n\u001b[1;32m      2\u001b[0m \u001b[0ma\u001b[0m \u001b[0;34m=\u001b[0m \u001b[0;34m[\u001b[0m\u001b[0;36m1.0\u001b[0m\u001b[0;34m,\u001b[0m\u001b[0;36m2.0\u001b[0m\u001b[0;34m,\u001b[0m\u001b[0;34m'c'\u001b[0m\u001b[0;34m,\u001b[0m\u001b[0;36m3.0\u001b[0m\u001b[0;34m]\u001b[0m\u001b[0;34m\u001b[0m\u001b[0m\n\u001b[1;32m      3\u001b[0m \u001b[0;32mfor\u001b[0m \u001b[0mi\u001b[0m \u001b[0;32min\u001b[0m \u001b[0ma\u001b[0m\u001b[0;34m:\u001b[0m\u001b[0;34m\u001b[0m\u001b[0m\n\u001b[0;32m----> 4\u001b[0;31m     \u001b[0mprint\u001b[0m\u001b[0;34m(\u001b[0m\u001b[0mmath\u001b[0m\u001b[0;34m.\u001b[0m\u001b[0mcos\u001b[0m\u001b[0;34m(\u001b[0m\u001b[0mi\u001b[0m\u001b[0;34m)\u001b[0m\u001b[0;34m)\u001b[0m\u001b[0;34m\u001b[0m\u001b[0m\n\u001b[0m",
        "\u001b[0;31mTypeError\u001b[0m: a float is required"
       ]
      }
     ],
     "prompt_number": 32
    },
    {
     "cell_type": "code",
     "collapsed": false,
     "input": [
      "a = [1.0,2.0,'c',3.0]\n",
      "for i in a:\n",
      "    try:\n",
      "        print(math.cos(i))\n",
      "    except TypeError:\n",
      "        print(i, \"isn't a float!\")"
     ],
     "language": "python",
     "metadata": {},
     "outputs": [
      {
       "output_type": "stream",
       "stream": "stdout",
       "text": [
        "0.5403023058681398\n",
        "-0.4161468365471424\n",
        "c isn't a float!\n",
        "-0.9899924966004454\n"
       ]
      }
     ],
     "prompt_number": 33
    },
    {
     "cell_type": "markdown",
     "metadata": {},
     "source": [
      "##Questions?"
     ]
    },
    {
     "cell_type": "code",
     "collapsed": false,
     "input": [],
     "language": "python",
     "metadata": {},
     "outputs": []
    }
   ],
   "metadata": {}
  }
 ]
}